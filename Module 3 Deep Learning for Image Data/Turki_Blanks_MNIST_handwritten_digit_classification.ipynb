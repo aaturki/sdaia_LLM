{
 "cells": [
  {
   "cell_type": "markdown",
   "metadata": {
    "id": "sxquFBDorNn2"
   },
   "source": [
    "# Handwritten Digit Classification\n",
    "\n",
    "\n",
    "For this Hands-on, we will use the popular scikit-learn library to build a basic classifier. The MNIST dataset contains images of handwritten digits, and the task is to classify each image into its corresponding digit (0 to 9)."
   ]
  },
  {
   "cell_type": "markdown",
   "metadata": {
    "id": "LFjb1WbUtzcT"
   },
   "source": [
    "## Import Libraries"
   ]
  },
  {
   "cell_type": "code",
   "execution_count": 1,
   "metadata": {
    "id": "vZuJJeZBt1NX"
   },
   "outputs": [
    {
     "name": "stderr",
     "output_type": "stream",
     "text": [
      "2023-11-11 18:19:31.151193: I tensorflow/core/platform/cpu_feature_guard.cc:182] This TensorFlow binary is optimized to use available CPU instructions in performance-critical operations.\n",
      "To enable the following instructions: SSE4.1 SSE4.2 AVX AVX2 FMA, in other operations, rebuild TensorFlow with the appropriate compiler flags.\n"
     ]
    }
   ],
   "source": [
    "# Import required libraries\n",
    "import numpy as np\n",
    "import matplotlib.pyplot as plt\n",
    "from keras.datasets import mnist\n",
    "from keras.models import Sequential\n",
    "from keras.layers import Conv2D, MaxPooling2D, Flatten, Dense\n",
    "from keras.utils import to_categorical\n",
    "from sklearn.model_selection import train_test_split"
   ]
  },
  {
   "cell_type": "markdown",
   "metadata": {
    "id": "izR8JS-irUfe"
   },
   "source": [
    "## Load the Dataset"
   ]
  },
  {
   "cell_type": "markdown",
   "metadata": {
    "id": "ksDVyrnEaqY9"
   },
   "source": [
    "**Question 1:** Load the train and test subsets of the mnist dataset from Keras"
   ]
  },
  {
   "cell_type": "code",
   "execution_count": 2,
   "metadata": {
    "colab": {
     "base_uri": "https://localhost:8080/"
    },
    "id": "tPZGpMact7Hh",
    "outputId": "b8521ece-7496-4abb-c401-95c9d166c457"
   },
   "outputs": [
    {
     "name": "stdout",
     "output_type": "stream",
     "text": [
      "Downloading data from https://storage.googleapis.com/tensorflow/tf-keras-datasets/mnist.npz\n",
      "11490434/11490434 [==============================] - 2s 0us/step\n"
     ]
    }
   ],
   "source": [
    "import tensorflow as tf\n",
    "\n",
    "# Load the MNIST dataset\n",
    "(X_train, y_train), (X_test, y_test) = mnist.load_data()\n"
   ]
  },
  {
   "cell_type": "markdown",
   "metadata": {
    "id": "1hRAaUS5uBa5"
   },
   "source": [
    "## Data Pre-Processing"
   ]
  },
  {
   "cell_type": "markdown",
   "metadata": {
    "id": "pk-ekR4Wa1AD"
   },
   "source": [
    "**Question 2:**  \n",
    "\n",
    "*   Adjust the input shape to match the one the model is expecting\n",
    "*   Normalize the values of the pixels\n",
    "*   Turn labels into categories using the to_categorical function"
   ]
  },
  {
   "cell_type": "code",
   "execution_count": 3,
   "metadata": {
    "id": "6PlFzdt2uAOc"
   },
   "outputs": [],
   "source": [
    "# Preprocess the data\n",
    "X_train = X_train.reshape((X_train.shape[0], X_train.shape[1], X_train.shape[2], 1)) / 255.0\n",
    "X_test = X_test.reshape((X_test.shape[0], X_test.shape[1], X_test.shape[2], 1)) / 255.0\n"
   ]
  },
  {
   "cell_type": "markdown",
   "metadata": {
    "id": "C2P2NYGAu3uf"
   },
   "source": [
    "## Build and train a CNN"
   ]
  },
  {
   "cell_type": "markdown",
   "metadata": {
    "id": "gBh_E3p8yQJd"
   },
   "source": [
    "**Question 3:** Create a Convolutional neural Network of your choice and be carefyl while you select the following:\n",
    "\n",
    "\n",
    "*   input shape\n",
    "*   activation function at the output layer\n",
    "*   number of output neurons\n",
    "\n"
   ]
  },
  {
   "cell_type": "code",
   "execution_count": 4,
   "metadata": {
    "id": "cSKyObX3u6b5"
   },
   "outputs": [],
   "source": [
    "\n",
    "import matplotlib.pyplot as plt\n",
    "\n",
    "from keras.models import Sequential\n",
    "from keras.layers import Conv2D, MaxPooling2D, Flatten, Dense\n",
    "\n",
    "# Build the CNN model\n",
    "model = Sequential()\n",
    "model.add(Conv2D(32, (3, 3), activation='relu', input_shape=(28, 28, 1)))\n",
    "model.add(MaxPooling2D(2, 2))\n",
    "model.add(Flatten())\n",
    "model.add(Dense(100, activation='relu'))\n",
    "model.add(Dense(10, activation='softmax'))"
   ]
  },
  {
   "cell_type": "markdown",
   "metadata": {
    "id": "Z37o5R4zyrRB"
   },
   "source": [
    "**Question 4:** Compile and train the model. Choose an appropriate loss function, optimizer, and print out the accuracy of the model."
   ]
  },
  {
   "cell_type": "code",
   "execution_count": 5,
   "metadata": {
    "colab": {
     "base_uri": "https://localhost:8080/"
    },
    "id": "EsBT-jSlyo35",
    "outputId": "5e50aa9b-6c1b-4891-a1fe-01c570d00c23"
   },
   "outputs": [
    {
     "name": "stdout",
     "output_type": "stream",
     "text": [
      "Epoch 1/5\n",
      "1500/1500 [==============================] - 131s 85ms/step - loss: 0.1767 - accuracy: 0.9474 - val_loss: 0.0822 - val_accuracy: 0.9750\n",
      "Epoch 2/5\n",
      "1500/1500 [==============================] - 107s 71ms/step - loss: 0.0597 - accuracy: 0.9815 - val_loss: 0.0635 - val_accuracy: 0.9814\n",
      "Epoch 3/5\n",
      "1500/1500 [==============================] - 70s 47ms/step - loss: 0.0395 - accuracy: 0.9879 - val_loss: 0.0583 - val_accuracy: 0.9847\n",
      "Epoch 4/5\n",
      "1500/1500 [==============================] - 79s 53ms/step - loss: 0.0270 - accuracy: 0.9914 - val_loss: 0.0591 - val_accuracy: 0.9843\n",
      "Epoch 5/5\n",
      "1500/1500 [==============================] - 98s 65ms/step - loss: 0.0184 - accuracy: 0.9937 - val_loss: 0.0551 - val_accuracy: 0.9853\n"
     ]
    }
   ],
   "source": [
    "# Compile the model\n",
    "model.compile(loss='sparse_categorical_crossentropy', optimizer='adam', metrics=['accuracy'])\n",
    "\n",
    "# Train the model\n",
    "history = model.fit(X_train, y_train, epochs=5, batch_size=32, validation_split=0.2)"
   ]
  },
  {
   "cell_type": "markdown",
   "metadata": {
    "id": "LaYsKjVSu9KF"
   },
   "source": [
    "## Evaluate the Model's performance"
   ]
  },
  {
   "cell_type": "markdown",
   "metadata": {
    "id": "57_7ykVky_j_"
   },
   "source": [
    "**Question 5:** Plot the training and validation accuracy to better understand the performance of the model."
   ]
  },
  {
   "cell_type": "code",
   "execution_count": 6,
   "metadata": {
    "colab": {
     "base_uri": "https://localhost:8080/",
     "height": 507
    },
    "id": "-KqzKudQu8rv",
    "outputId": "ffc5f1ad-399d-4e5a-fd8b-615cdb40c8a7"
   },
   "outputs": [
    {
     "name": "stdout",
     "output_type": "stream",
     "text": [
      "313/313 [==============================] - 4s 12ms/step - loss: 0.0528 - accuracy: 0.9854\n",
      "Test Accuracy: 0.9854000210762024\n"
     ]
    },
    {
     "data": {
      "image/png": "[encoded data removed]",
      "text/plain": [
       "<Figure size 640x480 with 1 Axes>"
      ]
     },
     "metadata": {},
     "output_type": "display_data"
    }
   ],
   "source": [
    "# Evaluate the model on the test set\n",
    "test_loss, test_accuracy = model.evaluate(X_test, y_test)\n",
    "print(\"Test Accuracy:\", test_accuracy)\n",
    "\n",
    "# Plot the training and validation accuracy over epochs\n",
    "plt.plot(history.history['accuracy'], label='Training Accuracy')\n",
    "plt.plot(history.history['val_accuracy'], label='Validation Accuracy')\n",
    "plt.xlabel('Epoch')\n",
    "plt.ylabel('Accuracy')\n",
    "plt.legend()\n",
    "plt.title('Training and Validation Accuracy')\n",
    "plt.show()\n"
   ]
  },
  {
   "cell_type": "code",
   "execution_count": null,
   "metadata": {},
   "outputs": [],
   "source": []
  }
 ],
 "metadata": {
  "colab": {
   "provenance": [],
   "toc_visible": true
  },
  "kernelspec": {
   "display_name": "Python 3 (ipykernel)",
   "language": "python",
   "name": "python3"
  },
  "language_info": {
   "codemirror_mode": {
    "name": "ipython",
    "version": 3
   },
   "file_extension": ".py",
   "mimetype": "text/x-python",
   "name": "python",
   "nbconvert_exporter": "python",
   "pygments_lexer": "ipython3",
   "version": "3.11.5"
  }
 },
 "nbformat": 4,
 "nbformat_minor": 1
}
